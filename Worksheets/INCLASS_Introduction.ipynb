{
 "cells": [
  {
   "cell_type": "markdown",
   "metadata": {},
   "source": [
    "# Inclass Introduction Worksheet\n",
    "This is the first worksheet of Python exercises for use in class. These sheets will have a mixture of empty spaces for your code, comments in cells to be filled in by you, and instructions of various sorts. They will also have some examples for you to execute."
   ]
  },
  {
   "cell_type": "markdown",
   "metadata": {},
   "source": [
    "## Reminders!\n",
    "\n",
    "### Jupyter \n",
    "The Jupyter notebook has help:\n",
    "\n",
    "1. When a cell is active (you have clicked on it) you can press the escape key (upper left of keyboard) followed by the 'h' key to see a short help summary of commands to use from within the cells. You can also see this from the \"Help | Keyboard Shortcuts\" menu at top.\n",
    "1. There is also some general [Jupyter notebook help online](http://nbviewer.jupyter.org/github/ipython/ipython/blob/3.x/examples/Notebook/Index.ipynb).\n",
    "\n",
    "### Printing\n",
    "The `print` statement prints things to the screen. Python in the notebook will show you the result from the last line of each cell without printing (if the result has something to show!). Other lines need a print to see them. In the empty cell below, try these commands:\n",
    "\n",
    "```python\n",
    "print 2+2\n",
    "print 3*3\n",
    "print 10/2\n",
    "print 15-7\n",
    "print \"hello there!\"\n",
    "```\n",
    "\n",
    "BTW--those are the basic math operators for addition, multiplication, division, and subtraction, respectively."
   ]
  },
  {
   "cell_type": "code",
   "execution_count": null,
   "metadata": {
    "collapsed": false
   },
   "outputs": [],
   "source": []
  },
  {
   "cell_type": "markdown",
   "metadata": {},
   "source": [
    "### Comments\n",
    "In the cells with code, comments (text for humans that is ignored by the computer) are marked with a \\# (called a hash, hashtag, octothorpe, or pound sign) at the start. In the next cell, add three print statements:\n",
    "1. A print statement showing some math.\n",
    "1. A print statement showing some text.\n",
    "1. A print statement that does not get run by Python. "
   ]
  },
  {
   "cell_type": "code",
   "execution_count": 1,
   "metadata": {
    "collapsed": false
   },
   "outputs": [
    {
     "name": "stdout",
     "output_type": "stream",
     "text": [
      "Python can see me, though.\n"
     ]
    }
   ],
   "source": [
    "# I'm a comment, Python can't see me! (Also I am a shade of green.)\n",
    "# Modify the cell below the print statement already here.\n",
    "\n",
    "print \"Python can see me, though.\""
   ]
  },
  {
   "cell_type": "markdown",
   "metadata": {},
   "source": [
    "## Do Some Math\n",
    "Here are some math problems, solve them in the next few empty cells. You can combine answers in cells, but if you do you will need to use the `print` statement. _To add cells to the notebook, click on a cell next to where you want a new cell, then press the escape key, and then press either the 'a' key (for a new cell above the one you are in) or 'b' for a new cell below._ See the Jupyter help above.\n",
    "\n",
    "1. What is $8!$ (8 factorial)? We don't have a factorial function yet, so write it out. Look up **factorial** on Google if you have forgotten it from your math/stats classes.\n",
    "1. What is 105 divided by 10? Is that the answer you expected? Why or why not? Look up the the Python integer division online, and study the discussion on [this page](http://stackoverflow.com/questions/183853/in-python-what-is-the-difference-between-and-when-used-for-division). Prepare yourself to explain this to class.\n",
    "1. What is the remainder after dividing 105 by 10? Make Python tell you this. Maybe do a search on the words **python remainder** or **python remainder operator**. [Google](https://www.google.com/) is your friend, mostly.\n",
    "1. Figure out how to get Python to give you the division you expected in the first place (called \"floating point division\"). Make up an example to use for explaining to class.\n",
    "1. Now that you've fixed division to behave as expected, what is 22/7? Why did the Greeks think that this was the same as $\\pi$?\n",
    "1. Raise 2 to the 3rd power. Don't use the multiplication operator (\\*), but use the [**exponentiation** operator](https://www.google.com/).\n",
    "1. (**Bonus**) See if you can figure out a command that placed at the start of a notebook will turn off the default integer division, and, if you do this, then figure out how to get integer division back on a case-by-case basis.\n",
    "\n",
    "With clarity on integer and floating point division, possessing the remainder operator, and knowing how to do exponentation, you now have all of the basic math operations available."
   ]
  },
  {
   "cell_type": "code",
   "execution_count": null,
   "metadata": {
    "collapsed": true
   },
   "outputs": [],
   "source": []
  },
  {
   "cell_type": "code",
   "execution_count": null,
   "metadata": {
    "collapsed": true
   },
   "outputs": [],
   "source": []
  },
  {
   "cell_type": "code",
   "execution_count": null,
   "metadata": {
    "collapsed": false
   },
   "outputs": [],
   "source": []
  },
  {
   "cell_type": "markdown",
   "metadata": {},
   "source": [
    "## Precedence\n",
    "Precedence refers to the order in which operations are done, usually in mathematics. In computing, it is used for this as well but also somewhat more generally, too, as we will see. Here are some precedence exercises:\n",
    "\n",
    "1. Do eight plus ten, all times twenty. Try it with and without parentheses, which in Python mostly work like in math class.\n",
    "1. Experiment and determine which has higher precedence: + or \\*.\n",
    "1. Experiment and determine which has higher precedence: \\* or \\\\.\n",
    "1. Make 4 divided by 2 divided by 2 equal both 1 and 4 using only parentheses.\n",
    "1. Make `8/2*3+14/2` equal 40 only using parentheses. Do not change the order, numbers, or operations.\n",
    "1. Make `82+13/5+1*5` equal 100 using only parentheses. Also, make sure you can make it equal either 89.6 or 89 (the integer).\n",
    "1. Go online and find a table or chart or some other source that explains/lists the Python precedence rules. Make sure that it is for Python 2 and not Python 3."
   ]
  },
  {
   "cell_type": "code",
   "execution_count": null,
   "metadata": {
    "collapsed": false
   },
   "outputs": [],
   "source": []
  },
  {
   "cell_type": "code",
   "execution_count": null,
   "metadata": {
    "collapsed": false
   },
   "outputs": [],
   "source": []
  },
  {
   "cell_type": "code",
   "execution_count": null,
   "metadata": {
    "collapsed": false
   },
   "outputs": [],
   "source": []
  },
  {
   "cell_type": "markdown",
   "metadata": {},
   "source": [
    "## Some More Basic Math\n",
    "Python does not come with all of its capabilities loaded at the outset. You add functionality by importing **modules** with the `import` statement. For instance, to add some math, we `import math`."
   ]
  },
  {
   "cell_type": "code",
   "execution_count": 2,
   "metadata": {
    "collapsed": false
   },
   "outputs": [
    {
     "name": "stdout",
     "output_type": "stream",
     "text": [
      "Pi is equal to 3.14159265359\n",
      "Cosine of 2 is -0.416146836547\n",
      "['__doc__', '__name__', '__package__', 'acos', 'acosh', 'asin', 'asinh', 'atan', 'atan2', 'atanh', 'ceil', 'copysign', 'cos', 'cosh', 'degrees', 'e', 'erf', 'erfc', 'exp', 'expm1', 'fabs', 'factorial', 'floor', 'fmod', 'frexp', 'fsum', 'gamma', 'hypot', 'isinf', 'isnan', 'ldexp', 'lgamma', 'log', 'log10', 'log1p', 'modf', 'pi', 'pow', 'radians', 'sin', 'sinh', 'sqrt', 'tan', 'tanh', 'trunc']\n"
     ]
    }
   ],
   "source": [
    "# Here is the import statement for the math module. Once done all cells below will\n",
    "# have super math powers!\n",
    "\n",
    "import math\n",
    "\n",
    "# A couple of examples:\n",
    "\n",
    "print \"Pi is equal to\", math.pi             # This 'comma trick' for printing is useful in examples\n",
    "print \"Cosine of 2 is\", math.cos(2.0)\n",
    "\n",
    "# To get a list of tools from the math module:\n",
    "\n",
    "print dir(math)"
   ]
  },
  {
   "cell_type": "markdown",
   "metadata": {},
   "source": [
    "With math imported we have many of the usual functions and tools from arithmetic and basic math classes. Note that when we use things that came into Python from the `math` module we have to address them with their full name: `module.name` which in this case is things like `math.pi` and `math.factorial`. BTW--we have the factorial function now.\n",
    "\n",
    "1. Determine $8!$ again, using the fancy new `math` module.\n",
    "1. Compute $\\sin(\\pi)$ and $\\sin(0)$. Are these correct? Why or why not? \n",
    "1. Python has a function called `round` that rounds things off. Ask Python for help with this function: `help(round)`. BTW, where does the `round` function live? Is it in with all of its `math` buddies? Is that weird?\n",
    "1. Using what you learned in the previous exercise, try printing $\\sin(\\pi)$ and $\\sin(0)$ rounded off. Is $\\sin(\\pi)$ correct now? Or was it never wrong in the first place?\n",
    "1. Print $\\pi$ to six decimal places.\n",
    "1. print $\\sqrt{2}$ and also this rounded to three decimal places."
   ]
  },
  {
   "cell_type": "code",
   "execution_count": 3,
   "metadata": {
    "collapsed": false
   },
   "outputs": [
    {
     "data": {
      "text/plain": [
       "1.41"
      ]
     },
     "execution_count": 3,
     "metadata": {},
     "output_type": "execute_result"
    }
   ],
   "source": [
    "round(math.sqrt(2),2)"
   ]
  },
  {
   "cell_type": "code",
   "execution_count": null,
   "metadata": {
    "collapsed": true
   },
   "outputs": [],
   "source": []
  }
 ],
 "metadata": {
  "kernelspec": {
   "display_name": "Python 2",
   "language": "python",
   "name": "python2"
  },
  "language_info": {
   "codemirror_mode": {
    "name": "ipython",
    "version": 2
   },
   "file_extension": ".py",
   "mimetype": "text/x-python",
   "name": "python",
   "nbconvert_exporter": "python",
   "pygments_lexer": "ipython2",
   "version": "2.7.11"
  }
 },
 "nbformat": 4,
 "nbformat_minor": 0
}
